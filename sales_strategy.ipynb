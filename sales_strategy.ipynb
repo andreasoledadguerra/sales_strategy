{
 "cells": [
  {
   "cell_type": "markdown",
   "metadata": {},
   "source": [
    "# Customer Clustering with KMeans to Boost Business Strategy\n",
    "In this notebook it will be showned how to use the KMeans algorithm (unsupervised machine learning) to cluster customer data.\n"
   ]
  },
  {
   "cell_type": "code",
   "execution_count": 1,
   "metadata": {},
   "outputs": [],
   "source": [
    "## Installing Required Libraries.\n",
    "import pandas as pd\n",
    "import numpy as np\n",
    "import matplotlib.pyplot as plt\n",
    "from sklearn.preprocessing import StandardScaler\n",
    "from sklearn.preprocessing import MinMaxScaler\n",
    "from sklearn.cluster import KMeans\n",
    "from sklearn.datasets import make_blobs\n",
    "from mpl_toolkits.mplot3d import Axes3D\n"
   ]
  },
  {
   "cell_type": "markdown",
   "metadata": {},
   "source": [
    "### Exploring the data"
   ]
  },
  {
   "cell_type": "code",
   "execution_count": null,
   "metadata": {},
   "outputs": [],
   "source": [
    "#Loading the data in a csv file into a dataframe.\n",
    "df_sst = pd.read_csv('Wholesale customers data.csv')\n",
    "\n",
    "#First five rows is showned\n",
    "df_sst.head(5)\n"
   ]
  },
  {
   "cell_type": "code",
   "execution_count": null,
   "metadata": {},
   "outputs": [],
   "source": [
    "print(df_sst.columns)"
   ]
  },
  {
   "cell_type": "code",
   "execution_count": null,
   "metadata": {},
   "outputs": [],
   "source": [
    "#Showing the shape of the dataset.\n",
    "df_sst.shape"
   ]
  },
  {
   "cell_type": "code",
   "execution_count": 5,
   "metadata": {},
   "outputs": [],
   "source": [
    "#Dropping columns 'Channel' and 'Region'\n",
    "df_sst = df_sst.drop(columns=['Channel', 'Region'], inplace= True)"
   ]
  },
  {
   "cell_type": "markdown",
   "metadata": {},
   "source": [
    "### Deciding how many clusters to create using \"Elbow method\""
   ]
  },
  {
   "cell_type": "code",
   "execution_count": null,
   "metadata": {},
   "outputs": [],
   "source": [
    "# Standardize the features\n",
    "scaler = StandardScaler()\n",
    "# Convert the scaled data back to a DataFrame\n",
    "df_scaled = pd.DataFrame(scaler.fit_transform(df_sst), columns=df_sst.columns)\n",
    "\n",
    "# Calculate inertia for different numbers of clusters\n",
    "inertia = []\n",
    "for k in range(2, 10):\n",
    "    kmeans = KMeans(n_clusters=k, random_state=42).fit(df_scaled)\n",
    "    inertia.append(kmeans.inertia_)\n",
    "\n",
    "# Plot the elbow curve\n",
    "plt.figure(figsize=(10,6), dpi=100)\n",
    "plt.plot(range(2,10), inertia, marker=\"o\", color=\"aquamarine\")\n",
    "plt.xlabel(\"Number of Clusters\", fontsize=12)\n",
    "plt.ylabel(\"Inertia\", fontsize=12)\n",
    "plt.title(\"Elbow Method for Optimal k\", fontsize=14)\n",
    "plt.grid(True, linestyle='--', alpha=0.7)\n",
    "plt.show()"
   ]
  },
  {
   "cell_type": "code",
   "execution_count": null,
   "metadata": {},
   "outputs": [],
   "source": [
    "#inertia = []\n",
    "#for k in range(2, 10):\n",
    "#    kmeans = KMeans(n_clusters=k).fit(df_sst)\n",
    "#    inertia.append(kmeans.inertia_)\n",
    "\n",
    "#plt.figure(figsize=(6,5), dpi=100)\n",
    "#plt.scatter(range(2,10), inertia, marker=\"o\", s=180, color=\"aquamarine\")\n",
    "#plt.xlabel(\"Number of Clusters\",fontsize=25)\n",
    "#plt.ylabel(\"Inertia\", fontsize=25)\n",
    "#plt.show()\n",
    "\n"
   ]
  },
  {
   "cell_type": "code",
   "execution_count": 5,
   "metadata": {},
   "outputs": [],
   "source": [
    "number_of_clusters = 4"
   ]
  },
  {
   "cell_type": "code",
   "execution_count": 6,
   "metadata": {},
   "outputs": [],
   "source": [
    "#Create a KMeans clustering model.\n",
    "cluster = KMeans(n_clusters = number_of_clusters)\n",
    "\n",
    "#Determing the value of the parameter 'n_init' for future changes \n",
    "kmeans = KMeans(n_init='auto')"
   ]
  },
  {
   "cell_type": "code",
   "execution_count": null,
   "metadata": {},
   "outputs": [],
   "source": [
    "#Training the model. \n",
    "result = cluster.fit_transform(df_sst)"
   ]
  },
  {
   "cell_type": "code",
   "execution_count": null,
   "metadata": {},
   "outputs": [],
   "source": [
    "#Cluster centers are printed.\n",
    "cluster.cluster_centers_"
   ]
  },
  {
   "cell_type": "markdown",
   "metadata": {},
   "source": [
    "### Making Predictions"
   ]
  },
  {
   "cell_type": "code",
   "execution_count": null,
   "metadata": {},
   "outputs": [],
   "source": [
    "#Ckecking columns name.\n",
    "df_sst.columns.tolist()"
   ]
  },
  {
   "cell_type": "code",
   "execution_count": null,
   "metadata": {},
   "outputs": [],
   "source": [
    "#Making predictions and saving them into the column \"cluster_number\".\n",
    "df_sst['cluster_number'] = cluster.predict(df_sst)\n",
    "df_sst.sample(5)"
   ]
  },
  {
   "cell_type": "code",
   "execution_count": null,
   "metadata": {},
   "outputs": [],
   "source": [
    "#Printing the cluster numbers and the number of customers in each cluster.\n",
    "df_sst.cluster_number.value_counts()"
   ]
  },
  {
   "cell_type": "code",
   "execution_count": 12,
   "metadata": {},
   "outputs": [],
   "source": [
    "# Generate sample data for clustering\n",
    "X, y = make_blobs(n_samples=440, \n",
    "                  centers=4, \n",
    "                  cluster_std=0.6, \n",
    "                  random_state=0)"
   ]
  },
  {
   "cell_type": "code",
   "execution_count": null,
   "metadata": {},
   "outputs": [],
   "source": [
    "# Apply k-means clustering\n",
    "cluster.fit(X)"
   ]
  },
  {
   "cell_type": "code",
   "execution_count": null,
   "metadata": {},
   "outputs": [],
   "source": [
    "# Plotting the clusters and cluster centers\n",
    "plt.scatter(X[:, 0], X[:, 1], c=cluster.labels_, cmap='viridis')\n",
    "plt.scatter(cluster.cluster_centers_[:, 0], cluster.cluster_centers_[:, 1], marker='*', s=400, color='r')\n",
    "plt.show()"
   ]
  },
  {
   "cell_type": "code",
   "execution_count": null,
   "metadata": {},
   "outputs": [],
   "source": [
    "#Bonus: plotting cluster in 3D\n",
    "X, y = make_blobs(n_samples=440,\n",
    "                n_features= 3,\n",
    "                 centers=4, \n",
    "                 cluster_std=0.1, \n",
    "                 random_state=42)\n",
    "\n",
    "#Creating 3D scatter plot\n",
    "fig = plt. figure(figsize=(10,8))\n",
    "ax = fig.add_subplot(111,projection='3d')\n",
    "\n",
    "#Plotting the points\n",
    "scatter = ax.scatter(X[:, 0], X[:, 1], X[:, 2],\n",
    "                     c=y,\n",
    "                     cmap='viridis'\n",
    "                     )\n",
    "\n",
    "#Adding labels\n",
    "ax.set_xlabel('X')\n",
    "ax.set_ylabel('Y')\n",
    "ax.set_zlabel('Z')\n",
    "ax.set_title('3D Clustering Visualization')\n",
    "\n",
    "#Adding a color bar\n",
    "plt.colorbar(scatter)\n",
    "\n",
    "#Showing the plot\n",
    "plt.show()\n"
   ]
  }
 ],
 "metadata": {
  "kernelspec": {
   "display_name": "Python 3",
   "language": "python",
   "name": "python3"
  },
  "language_info": {
   "codemirror_mode": {
    "name": "ipython",
    "version": 3
   },
   "file_extension": ".py",
   "mimetype": "text/x-python",
   "name": "python",
   "nbconvert_exporter": "python",
   "pygments_lexer": "ipython3",
   "version": "3.10.12"
  }
 },
 "nbformat": 4,
 "nbformat_minor": 2
}
