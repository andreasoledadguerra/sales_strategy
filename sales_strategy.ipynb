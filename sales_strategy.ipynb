{
 "cells": [
  {
   "cell_type": "markdown",
   "metadata": {},
   "source": [
    "# Customer Clustering with KMeans to Boost Business Strategy\n",
    "In this notebook it will be showned how to use the KMeans algorithm (unsupervised machine learning) to cluster customer data.\n"
   ]
  },
  {
   "cell_type": "code",
   "execution_count": 1,
   "metadata": {},
   "outputs": [],
   "source": [
    "## Installing Required Libraries.\n",
    "import pandas as pd\n",
    "import numpy as np\n",
    "import matplotlib.pyplot as plt\n",
    "import seaborn as sns\n",
    "from scipy import stats\n",
    "from sklearn import preprocessing\n",
    "from sklearn.decomposition import PCA\n",
    "from sklearn.preprocessing import MinMaxScaler, StandardScaler,RobustScaler\n",
    "from sklearn.cluster import KMeans\n",
    "from sklearn.datasets import make_blobs\n",
    "from sklearn.metrics import silhouette_score"
   ]
  },
  {
   "cell_type": "markdown",
   "metadata": {},
   "source": [
    "### Exploring the data"
   ]
  },
  {
   "cell_type": "code",
   "execution_count": 2,
   "metadata": {},
   "outputs": [
    {
     "data": {
      "text/html": [
       "<div>\n",
       "<style scoped>\n",
       "    .dataframe tbody tr th:only-of-type {\n",
       "        vertical-align: middle;\n",
       "    }\n",
       "\n",
       "    .dataframe tbody tr th {\n",
       "        vertical-align: top;\n",
       "    }\n",
       "\n",
       "    .dataframe thead th {\n",
       "        text-align: right;\n",
       "    }\n",
       "</style>\n",
       "<table border=\"1\" class=\"dataframe\">\n",
       "  <thead>\n",
       "    <tr style=\"text-align: right;\">\n",
       "      <th></th>\n",
       "      <th>Channel</th>\n",
       "      <th>Region</th>\n",
       "      <th>Fresh</th>\n",
       "      <th>Milk</th>\n",
       "      <th>Grocery</th>\n",
       "      <th>Frozen</th>\n",
       "      <th>Detergents_Paper</th>\n",
       "      <th>Delicassen</th>\n",
       "    </tr>\n",
       "  </thead>\n",
       "  <tbody>\n",
       "    <tr>\n",
       "      <th>0</th>\n",
       "      <td>2</td>\n",
       "      <td>3</td>\n",
       "      <td>12669</td>\n",
       "      <td>9656</td>\n",
       "      <td>7561</td>\n",
       "      <td>214</td>\n",
       "      <td>2674</td>\n",
       "      <td>1338</td>\n",
       "    </tr>\n",
       "    <tr>\n",
       "      <th>1</th>\n",
       "      <td>2</td>\n",
       "      <td>3</td>\n",
       "      <td>7057</td>\n",
       "      <td>9810</td>\n",
       "      <td>9568</td>\n",
       "      <td>1762</td>\n",
       "      <td>3293</td>\n",
       "      <td>1776</td>\n",
       "    </tr>\n",
       "    <tr>\n",
       "      <th>2</th>\n",
       "      <td>2</td>\n",
       "      <td>3</td>\n",
       "      <td>6353</td>\n",
       "      <td>8808</td>\n",
       "      <td>7684</td>\n",
       "      <td>2405</td>\n",
       "      <td>3516</td>\n",
       "      <td>7844</td>\n",
       "    </tr>\n",
       "    <tr>\n",
       "      <th>3</th>\n",
       "      <td>1</td>\n",
       "      <td>3</td>\n",
       "      <td>13265</td>\n",
       "      <td>1196</td>\n",
       "      <td>4221</td>\n",
       "      <td>6404</td>\n",
       "      <td>507</td>\n",
       "      <td>1788</td>\n",
       "    </tr>\n",
       "    <tr>\n",
       "      <th>4</th>\n",
       "      <td>2</td>\n",
       "      <td>3</td>\n",
       "      <td>22615</td>\n",
       "      <td>5410</td>\n",
       "      <td>7198</td>\n",
       "      <td>3915</td>\n",
       "      <td>1777</td>\n",
       "      <td>5185</td>\n",
       "    </tr>\n",
       "  </tbody>\n",
       "</table>\n",
       "</div>"
      ],
      "text/plain": [
       "   Channel  Region  Fresh  Milk  Grocery  Frozen  Detergents_Paper  Delicassen\n",
       "0        2       3  12669  9656     7561     214              2674        1338\n",
       "1        2       3   7057  9810     9568    1762              3293        1776\n",
       "2        2       3   6353  8808     7684    2405              3516        7844\n",
       "3        1       3  13265  1196     4221    6404               507        1788\n",
       "4        2       3  22615  5410     7198    3915              1777        5185"
      ]
     },
     "execution_count": 2,
     "metadata": {},
     "output_type": "execute_result"
    }
   ],
   "source": [
    "#Loading the data in a csv file into a dataframe.\n",
    "df_sst = pd.read_csv('Wholesale customers data.csv')\n",
    "\n",
    "#First five rows is showned\n",
    "df_sst.head(5)\n"
   ]
  },
  {
   "cell_type": "code",
   "execution_count": 3,
   "metadata": {},
   "outputs": [
    {
     "name": "stdout",
     "output_type": "stream",
     "text": [
      "Index(['Channel', 'Region', 'Fresh', 'Milk', 'Grocery', 'Frozen',\n",
      "       'Detergents_Paper', 'Delicassen'],\n",
      "      dtype='object')\n"
     ]
    }
   ],
   "source": [
    "print(df_sst.columns)"
   ]
  },
  {
   "cell_type": "code",
   "execution_count": 4,
   "metadata": {},
   "outputs": [
    {
     "data": {
      "text/plain": [
       "(440, 8)"
      ]
     },
     "execution_count": 4,
     "metadata": {},
     "output_type": "execute_result"
    }
   ],
   "source": [
    "#Showing the shape of the dataset.\n",
    "df_sst.shape"
   ]
  },
  {
   "cell_type": "code",
   "execution_count": 5,
   "metadata": {},
   "outputs": [],
   "source": [
    "#Dropping columns 'Channel' and 'Region'\n",
    "df_sst.drop(columns=['Channel', 'Region'], inplace= True)"
   ]
  },
  {
   "cell_type": "markdown",
   "metadata": {},
   "source": [
    "### Creating a function for deciding which scaler is better according to the data distribution\n",
    "\n"
   ]
  },
  {
   "cell_type": "code",
   "execution_count": 6,
   "metadata": {},
   "outputs": [
    {
     "ename": "IndentationError",
     "evalue": "expected an indented block after function definition on line 27 (3330350083.py, line 31)",
     "output_type": "error",
     "traceback": [
      "\u001b[0;36m  Cell \u001b[0;32mIn[6], line 31\u001b[0;36m\u001b[0m\n\u001b[0;31m    sns.histplot(data, x=column, ax=axes[idx, 0])\u001b[0m\n\u001b[0m    ^\u001b[0m\n\u001b[0;31mIndentationError\u001b[0m\u001b[0;31m:\u001b[0m expected an indented block after function definition on line 27\n"
     ]
    }
   ],
   "source": [
    "def analyze_scaling_needs(data: pd.DataFrame):\n",
    "    results = {}\n",
    "    fig, axes = plt.subplots(len(data.columns), 3, figsize=(15, 5*len(data.columns)))\n",
    "    \n",
    "    # Calculating global x-axis limits\n",
    "    global_min = min(data[col].min() for col in data.columns)\n",
    "    global_max = max(data[col].max() for col in data.columns)\n",
    "    x_range = (global_min, global_max)\n",
    "    \n",
    "    for idx, column in enumerate(data.columns):\n",
    "        values = data[column].values\n",
    "        \n",
    "        # 1. Checking outliers\n",
    "        q1 = np.percentile(values, 25)\n",
    "        q2 = np.percentile(values, 50)  # median\n",
    "        q3 = np.percentile(values, 75)\n",
    "        iqr = q3 - q1\n",
    "        outlier_bounds = (q1 - 1.5 * iqr, q3 + 1.5 * iqr)\n",
    "        outliers = np.sum((values < outlier_bounds[0]) | (values > outlier_bounds[1]))\n",
    "        \n",
    "        # 2. Test for normality - fixing the unpacking\n",
    "        statistic, normality_p_value = stats.normaltest(values)\n",
    "        \n",
    "        # 3. Check value range\n",
    "        value_range = values.max() - values.min()\n",
    "    \n",
    "            \n",
    "            \n",
    "        # Histogram with percentile lines\n",
    "        sns.histplot(data, x=column, ax=axes[idx, 0])\n",
    "        axes[idx, 0].axvline(q1, color='r', linestyle='--', label=f'25th: {q1:.2f}')\n",
    "        axes[idx, 0].axvline(q2, color='g', linestyle='--', label=f'50th: {q2:.2f}')\n",
    "        axes[idx, 0].axvline(q3, color='b', linestyle='--', label=f'75th: {q3:.2f}')\n",
    "        axes[idx, 0].set_title(f'{column} Distribution')\n",
    "        axes[idx, 0].set_xlim(x_range)\n",
    "        axes[idx, 0].legend()\n",
    "        \n",
    "        \n",
    "        # Box plot\n",
    "        sns.boxplot(data, x=column, ax=axes[idx, 1])\n",
    "        axes[idx, 1].set_title(f'{column} Box Plot')\n",
    "        axes[idx, 1].set_xlim(x_range)\n",
    "\n",
    "        legend_text = [\n",
    "        f'25th: {q1:.2f}',\n",
    "        f'50th: {q2:.2f}',\n",
    "        f'75th: {q3:.2f}'\n",
    "        ]\n",
    "        axes[idx, 1].legend(legend_text, loc='upper right')\n",
    "        \n",
    "        # Q-Q plot\n",
    "        stats.probplot(values, dist=\"norm\", plot=axes[idx, 2])\n",
    "        axes[idx, 2].set_title(f'{column} Q-Q Plot')\n",
    "        \n",
    "        (osm, osr), (slope, intercept, r) = stats.probplot(values, dist=\"norm\", plot=axes[idx, 2])\n",
    "        axes[idx, 2].get_lines()[0].set_label(f'Q-Q Line (R² = {r**2:.3f})')\n",
    "        axes[idx, 2].axhline(q1, color='r', linestyle='--', label=f'25th: {q1:.2f}')\n",
    "        axes[idx, 2].axhline(q2, color='g', linestyle='--', label=f'50th: {q2:.2f}')\n",
    "        axes[idx, 2].axhline(q3, color='b', linestyle='--', label=f'75th: {q3:.2f}')\n",
    "        axes[idx, 2].legend()\n",
    "\n",
    "        # Storing analysis results\n",
    "        results[column] = {\n",
    "            'has_outliers': outliers > 0,\n",
    "            'outlier_count': outliers,\n",
    "            'is_normal': normality_p_value > 0.05,\n",
    "            'value_range': value_range,\n",
    "            'skewness': stats.skew(values),\n",
    "            'percentiles': {\n",
    "                '25th': q1,\n",
    "                '50th': q2,\n",
    "                '75th': q3\n",
    "            }\n",
    "        }\n",
    "    \n",
    "    plt.tight_layout()\n",
    "    plt.show()\n",
    "    \n",
    "    # Print recommendations and percentiles\n",
    "    print(\"\\nScaling Recommendations:\")\n",
    "    print(\"-----------------------\")\n",
    "    for column in data.columns:\n",
    "        print(f\"\\nColumn: {column}\")\n",
    "        r = results[column]\n",
    "        \n",
    "        print(f\"Percentiles:\")\n",
    "        print(f\"  25th: {r['percentiles']['25th']:.2f}\")\n",
    "        print(f\"  50th: {r['percentiles']['50th']:.2f}\")\n",
    "        print(f\"  75th: {r['percentiles']['75th']:.2f}\")\n",
    "        \n",
    "        if r['has_outliers'] and r['outlier_count'] > len(data.columns) * 0.01:\n",
    "            print(\"✓ RobustScaler recommended due to significant outliers\")\n",
    "        \n",
    "        if r['is_normal']:\n",
    "            print(\"✓ StandardScaler suitable due to normal distribution\")\n",
    "        \n",
    "        if r['value_range'] > 10:\n",
    "            print(\"✓ MinMaxScaler could be useful for large value ranges\")\n",
    "            \n",
    "        if abs(r['skewness']) > 2:\n",
    "            print(\"✓ Consider log transformation before scaling\")\n",
    "    \n",
    "    return results"
   ]
  },
  {
   "cell_type": "code",
   "execution_count": 9,
   "metadata": {},
   "outputs": [],
   "source": [
    "scaler = RobustScaler()\n",
    "scaled_data = scaler.fit_transform(df_sst)"
   ]
  },
  {
   "cell_type": "code",
   "execution_count": null,
   "metadata": {},
   "outputs": [
    {
     "data": {
      "image/png": "[encoded data removed]",
      "text/plain": [
       "<Figure size 1500x3000 with 18 Axes>"
      ]
     },
     "metadata": {},
     "output_type": "display_data"
    }
   ],
   "source": [
    "columns_to_analyze = ['Fresh', 'Milk', 'Grocery', 'Frozen', 'Detergents_Paper', 'Delicassen']\n",
    "results = analyze_scaling_needs(df_sst)\n"
   ]
  },
  {
   "cell_type": "markdown",
   "metadata": {},
   "source": [
    "### Deciding how many clusters to create using \"Elbow method\""
   ]
  },
  {
   "cell_type": "code",
   "execution_count": null,
   "metadata": {},
   "outputs": [],
   "source": [
    "# Standardize the features\n",
    "scaler = RobustScaler()\n",
    "# Convert the scaled data back to a DataFrame\n",
    "df_scaled = pd.DataFrame(scaler.fit_transform(df_sst), columns=df_sst.columns)\n",
    "\n",
    "# Calculate inertia for different numbers of clusters\n",
    "inertia = []\n",
    "for k in range(2, 10):\n",
    "    kmeans = KMeans(n_clusters=k, random_state=42).fit(df_scaled)\n",
    "    inertia.append(kmeans.inertia_)\n",
    "\n",
    "# Plot the elbow curve\n",
    "plt.figure(figsize=(10,6), dpi=100)\n",
    "plt.plot(range(2,10), inertia, marker=\"o\", color=\"aquamarine\")\n",
    "plt.xlabel(\"Number of Clusters\", fontsize=12)\n",
    "plt.ylabel(\"Inertia\", fontsize=12)\n",
    "plt.title(\"Elbow Method for Optimal k\", fontsize=14)\n",
    "plt.grid(True, linestyle='--', alpha=0.7)\n",
    "plt.show()"
   ]
  },
  {
   "cell_type": "markdown",
   "metadata": {},
   "source": [
    "In conclution our k for the model is 4."
   ]
  },
  {
   "cell_type": "code",
   "execution_count": null,
   "metadata": {},
   "outputs": [],
   "source": [
    "\n",
    "\n",
    "# Standardize the features (reusing your existing scaler)\n",
    "scaler = RobustScaler()\n",
    "df_scaled = pd.DataFrame(scaler.fit_transform(df_sst), columns=df_sst.columns)\n",
    "\n",
    "# Calculate silhouette scores for different numbers of clusters\n",
    "silhouette_scores = []\n",
    "K = range(2, 10)\n",
    "\n",
    "for k in K:\n",
    "    # Create and fit KMeans model\n",
    "    kmeans = KMeans(n_clusters=k, random_state=42)\n",
    "    kmeans.fit(df_scaled)\n",
    "    \n",
    "    # Calculate silhouette score\n",
    "    score = silhouette_score(df_scaled, kmeans.labels_)\n",
    "    silhouette_scores.append(score)\n",
    "\n",
    "# Plot the silhouette scores\n",
    "plt.figure(figsize=(10, 6), dpi=100)\n",
    "plt.plot(K, silhouette_scores, marker='o', color='purple')\n",
    "plt.xlabel('Number of Clusters (k)', fontsize=12)\n",
    "plt.ylabel('Silhouette Score', fontsize=12)\n",
    "plt.title('Silhouette Analysis for Optimal k', fontsize=14)\n",
    "plt.grid(True, linestyle='--', alpha=0.7)\n",
    "\n",
    "# Add score labels on the points\n",
    "for i, score in enumerate(silhouette_scores):\n",
    "    plt.annotate(f'{score:.3f}', \n",
    "                (K[i], score),\n",
    "                textcoords=\"offset points\",\n",
    "                xytext=(0,10),\n",
    "                ha='center')\n",
    "\n",
    "plt.show()\n",
    "\n",
    "# Print the optimal k based on highest silhouette score\n",
    "optimal_k = K[np.argmax(silhouette_scores)]\n",
    "print(f\"Optimal number of clusters based on silhouette score: {optimal_k}\")\n",
    "print(f\"Maximum silhouette score: {max(silhouette_scores):.3f}\")"
   ]
  },
  {
   "cell_type": "markdown",
   "metadata": {},
   "source": [
    "### Using KMeans"
   ]
  },
  {
   "cell_type": "code",
   "execution_count": 36,
   "metadata": {},
   "outputs": [],
   "source": [
    "number_of_clusters = 4"
   ]
  },
  {
   "cell_type": "code",
   "execution_count": 37,
   "metadata": {},
   "outputs": [],
   "source": [
    "#Create a KMeans clustering model.\n",
    "cluster = KMeans(n_clusters = number_of_clusters)\n",
    "\n",
    "#Determing the value of the parameter 'n_init' for future changes \n",
    "kmeans = KMeans(n_init='auto')"
   ]
  },
  {
   "cell_type": "code",
   "execution_count": null,
   "metadata": {},
   "outputs": [],
   "source": [
    "#Training the model. \n",
    "result = cluster.fit_transform(df_sst)"
   ]
  },
  {
   "cell_type": "code",
   "execution_count": null,
   "metadata": {},
   "outputs": [],
   "source": [
    "#Cluster centers are printed.\n",
    "cluster.cluster_centers_"
   ]
  },
  {
   "cell_type": "markdown",
   "metadata": {},
   "source": [
    "### Creating a function for plotting cluster centers of the dataset"
   ]
  },
  {
   "cell_type": "code",
   "execution_count": null,
   "metadata": {},
   "outputs": [],
   "source": [
    "# For multiple features we use PCA to visualize in 2D\n",
    "def plot_clusters_pca(data, cluster_model):\n",
    "    \n",
    "    # Apply PCA to reduce to 2 dimensions\n",
    "    pca = PCA(n_components=2)\n",
    "    data_2d = pca.fit_transform(data)\n",
    "    centers_2d = pca.transform(cluster_model.cluster_centers_)\n",
    "    \n",
    "    # Creating the plot\n",
    "    plt.figure(figsize=(10, 6))\n",
    "    \n",
    "    # Plotting the data points\n",
    "    scatter = plt.scatter(data_2d[:, 0], data_2d[:, 1], \n",
    "                         c=cluster_model.labels_, cmap='viridis')\n",
    "    \n",
    "    # Plot the cluster centers\n",
    "    plt.scatter(centers_2d[:, 0], centers_2d[:, 1], \n",
    "               c='red', marker='x', s=200, linewidths=3, \n",
    "               label='Cluster Centers')\n",
    "    \n",
    "    plt.xlabel('First Principal Component')\n",
    "    plt.ylabel('Second Principal Component')\n",
    "    plt.title('Cluster Centers and Data Points (PCA)')\n",
    "    plt.legend()\n",
    "    plt.colorbar(scatter, label='Cluster Label')\n",
    "    plt.show()\n",
    "\n",
    "\n",
    "plot_clusters_pca(df_sst, cluster)"
   ]
  },
  {
   "cell_type": "markdown",
   "metadata": {},
   "source": [
    "### Making Predictions"
   ]
  },
  {
   "cell_type": "code",
   "execution_count": null,
   "metadata": {},
   "outputs": [],
   "source": [
    "#Ckecking columns name.\n",
    "df_sst.columns.tolist()"
   ]
  },
  {
   "cell_type": "code",
   "execution_count": null,
   "metadata": {},
   "outputs": [],
   "source": [
    "#Making predictions and saving them into the column \"cluster_number\".\n",
    "df_sst['cluster_number'] = cluster.predict(df_sst)\n",
    "df_sst.sample(5)"
   ]
  },
  {
   "cell_type": "code",
   "execution_count": null,
   "metadata": {},
   "outputs": [],
   "source": [
    "#Printing the cluster numbers and the number of customers in each cluster.\n",
    "df_sst.cluster_number.value_counts()"
   ]
  },
  {
   "cell_type": "code",
   "execution_count": 52,
   "metadata": {},
   "outputs": [],
   "source": [
    "#TODO usar reducción de dimensionalidad, por ejemplo el PSA\n",
    "\n",
    "#Investigar el método de la silueta"
   ]
  }
 ],
 "metadata": {
  "kernelspec": {
   "display_name": "Python 3",
   "language": "python",
   "name": "python3"
  },
  "language_info": {
   "codemirror_mode": {
    "name": "ipython",
    "version": 3
   },
   "file_extension": ".py",
   "mimetype": "text/x-python",
   "name": "python",
   "nbconvert_exporter": "python",
   "pygments_lexer": "ipython3",
   "version": "3.10.12"
  }
 },
 "nbformat": 4,
 "nbformat_minor": 2
}
