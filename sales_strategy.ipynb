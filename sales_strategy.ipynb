{
 "cells": [
  {
   "cell_type": "markdown",
   "metadata": {},
   "source": [
    "# Customer Clustering with KMeans to Boost Business Strategy\n",
    "In this notebook it will be showned how to use the KMeans algorithm (unsupervised machine learning) to cluster customer data.\n"
   ]
  },
  {
   "cell_type": "code",
   "execution_count": 16,
   "metadata": {},
   "outputs": [],
   "source": [
    "## Installing Required Libraries.\n",
    "import pandas as pd\n",
    "import numpy as np\n",
    "import matplotlib.pyplot as plt\n",
    "from sklearn import preprocessing\n",
    "from sklearn.preprocessing import StandardScaler\n",
    "from sklearn.preprocessing import MinMaxScaler\n",
    "from sklearn.cluster import KMeans\n",
    "from sklearn.datasets import make_blobs\n",
    "from mpl_toolkits.mplot3d import Axes3D\n"
   ]
  },
  {
   "cell_type": "markdown",
   "metadata": {},
   "source": [
    "### Exploring the data"
   ]
  },
  {
   "cell_type": "code",
   "execution_count": 17,
   "metadata": {},
   "outputs": [
    {
     "data": {
      "text/html": [
       "<div>\n",
       "<style scoped>\n",
       "    .dataframe tbody tr th:only-of-type {\n",
       "        vertical-align: middle;\n",
       "    }\n",
       "\n",
       "    .dataframe tbody tr th {\n",
       "        vertical-align: top;\n",
       "    }\n",
       "\n",
       "    .dataframe thead th {\n",
       "        text-align: right;\n",
       "    }\n",
       "</style>\n",
       "<table border=\"1\" class=\"dataframe\">\n",
       "  <thead>\n",
       "    <tr style=\"text-align: right;\">\n",
       "      <th></th>\n",
       "      <th>Channel</th>\n",
       "      <th>Region</th>\n",
       "      <th>Fresh</th>\n",
       "      <th>Milk</th>\n",
       "      <th>Grocery</th>\n",
       "      <th>Frozen</th>\n",
       "      <th>Detergents_Paper</th>\n",
       "      <th>Delicassen</th>\n",
       "    </tr>\n",
       "  </thead>\n",
       "  <tbody>\n",
       "    <tr>\n",
       "      <th>0</th>\n",
       "      <td>2</td>\n",
       "      <td>3</td>\n",
       "      <td>12669</td>\n",
       "      <td>9656</td>\n",
       "      <td>7561</td>\n",
       "      <td>214</td>\n",
       "      <td>2674</td>\n",
       "      <td>1338</td>\n",
       "    </tr>\n",
       "    <tr>\n",
       "      <th>1</th>\n",
       "      <td>2</td>\n",
       "      <td>3</td>\n",
       "      <td>7057</td>\n",
       "      <td>9810</td>\n",
       "      <td>9568</td>\n",
       "      <td>1762</td>\n",
       "      <td>3293</td>\n",
       "      <td>1776</td>\n",
       "    </tr>\n",
       "    <tr>\n",
       "      <th>2</th>\n",
       "      <td>2</td>\n",
       "      <td>3</td>\n",
       "      <td>6353</td>\n",
       "      <td>8808</td>\n",
       "      <td>7684</td>\n",
       "      <td>2405</td>\n",
       "      <td>3516</td>\n",
       "      <td>7844</td>\n",
       "    </tr>\n",
       "    <tr>\n",
       "      <th>3</th>\n",
       "      <td>1</td>\n",
       "      <td>3</td>\n",
       "      <td>13265</td>\n",
       "      <td>1196</td>\n",
       "      <td>4221</td>\n",
       "      <td>6404</td>\n",
       "      <td>507</td>\n",
       "      <td>1788</td>\n",
       "    </tr>\n",
       "    <tr>\n",
       "      <th>4</th>\n",
       "      <td>2</td>\n",
       "      <td>3</td>\n",
       "      <td>22615</td>\n",
       "      <td>5410</td>\n",
       "      <td>7198</td>\n",
       "      <td>3915</td>\n",
       "      <td>1777</td>\n",
       "      <td>5185</td>\n",
       "    </tr>\n",
       "  </tbody>\n",
       "</table>\n",
       "</div>"
      ],
      "text/plain": [
       "   Channel  Region  Fresh  Milk  Grocery  Frozen  Detergents_Paper  Delicassen\n",
       "0        2       3  12669  9656     7561     214              2674        1338\n",
       "1        2       3   7057  9810     9568    1762              3293        1776\n",
       "2        2       3   6353  8808     7684    2405              3516        7844\n",
       "3        1       3  13265  1196     4221    6404               507        1788\n",
       "4        2       3  22615  5410     7198    3915              1777        5185"
      ]
     },
     "execution_count": 17,
     "metadata": {},
     "output_type": "execute_result"
    }
   ],
   "source": [
    "#Loading the data in a csv file into a dataframe.\n",
    "df_sst = pd.read_csv('Wholesale customers data.csv')\n",
    "\n",
    "#First five rows is showned\n",
    "df_sst.head(5)\n"
   ]
  },
  {
   "cell_type": "code",
   "execution_count": 18,
   "metadata": {},
   "outputs": [
    {
     "name": "stdout",
     "output_type": "stream",
     "text": [
      "Index(['Channel', 'Region', 'Fresh', 'Milk', 'Grocery', 'Frozen',\n",
      "       'Detergents_Paper', 'Delicassen'],\n",
      "      dtype='object')\n"
     ]
    }
   ],
   "source": [
    "print(df_sst.columns)"
   ]
  },
  {
   "cell_type": "code",
   "execution_count": 19,
   "metadata": {},
   "outputs": [
    {
     "data": {
      "text/plain": [
       "(440, 8)"
      ]
     },
     "execution_count": 19,
     "metadata": {},
     "output_type": "execute_result"
    }
   ],
   "source": [
    "#Showing the shape of the dataset.\n",
    "df_sst.shape"
   ]
  },
  {
   "cell_type": "code",
   "execution_count": 20,
   "metadata": {},
   "outputs": [],
   "source": [
    "#Dropping columns 'Channel' and 'Region'\n",
    "df_sst.drop(columns=['Channel', 'Region'], inplace= True)"
   ]
  },
  {
   "cell_type": "markdown",
   "metadata": {},
   "source": [
    "### Preprocessing data using different methods"
   ]
  },
  {
   "cell_type": "code",
   "execution_count": 26,
   "metadata": {},
   "outputs": [
    {
     "data": {
      "text/plain": [
       "array([[0.11294004, 0.13072723, 0.08146416, 0.0031063 , 0.0654272 ,\n",
       "        0.02784731],\n",
       "       [0.06289903, 0.13282409, 0.10309667, 0.02854842, 0.08058985,\n",
       "        0.03698373],\n",
       "       [0.05662161, 0.11918086, 0.08278992, 0.03911643, 0.08605232,\n",
       "        0.16355861],\n",
       "       ...,\n",
       "       [0.1295431 , 0.21013575, 0.32594285, 0.00677142, 0.36346267,\n",
       "        0.03888194],\n",
       "       [0.091727  , 0.02622442, 0.02402535, 0.01664914, 0.00404174,\n",
       "        0.04426366],\n",
       "       [0.02482434, 0.02237109, 0.02702178, 0.00065742, 0.01161082,\n",
       "        0.00102211]])"
      ]
     },
     "execution_count": 26,
     "metadata": {},
     "output_type": "execute_result"
    }
   ],
   "source": [
    "# scale minimun and maximun\n",
    "data_min_max = preprocessing.MinMaxScaler().fit_transform(df_sst)\n",
    "data_min_max"
   ]
  },
  {
   "cell_type": "code",
   "execution_count": 27,
   "metadata": {},
   "outputs": [
    {
     "data": {
      "text/plain": [
       "array([[0.034663  , 0.04908746, 0.02911003, 0.00177727, 0.02290171,\n",
       "        0.01991374],\n",
       "       [0.0193083 , 0.04987034, 0.03683703, 0.01463339, 0.02820319,\n",
       "        0.02643259],\n",
       "       [0.01738212, 0.04477655, 0.02958358, 0.0199735 , 0.03011309,\n",
       "        0.11674394],\n",
       "       ...,\n",
       "       [0.03975752, 0.07873515, 0.11643627, 0.00362928, 0.12710706,\n",
       "        0.02778696],\n",
       "       [0.02815394, 0.01007066, 0.00859325, 0.00862058, 0.00143885,\n",
       "        0.03162683],\n",
       "       [0.00762537, 0.00863199, 0.00966356, 0.00053982, 0.00408531,\n",
       "        0.00077393]])"
      ]
     },
     "execution_count": 27,
     "metadata": {},
     "output_type": "execute_result"
    }
   ],
   "source": [
    "# Normalization of the data.\n",
    "data_normalizer = preprocessing.Normalizer().transform(df_sst.T)\n",
    "data_normalizer = data_normalizer.T\n",
    "data_normalizer"
   ]
  },
  {
   "cell_type": "code",
   "execution_count": 28,
   "metadata": {},
   "outputs": [
    {
     "data": {
      "text/plain": [
       "(array([[ 0.30168043,  1.06571214,  0.32995207, -0.46657183,  0.50678671,\n",
       "          0.2638102 ],\n",
       "        [-0.1048095 ,  1.09293385,  0.56599336,  0.08392603,  0.67567015,\n",
       "          0.5740085 ],\n",
       "        [-0.15580183,  0.91581599,  0.34441798,  0.3125889 ,  0.73651183,\n",
       "          4.87145892],\n",
       "        ...,\n",
       "        [ 0.43654933,  2.09660171,  2.99755961, -0.38726885,  3.826342  ,\n",
       "          0.63845609],\n",
       "        [ 0.12936404, -0.29095409, -0.29678633, -0.17354196, -0.176932  ,\n",
       "          0.82117564],\n",
       "        [-0.41409532, -0.34097839, -0.26409103, -0.51955903, -0.0926267 ,\n",
       "         -0.64695467]]),\n",
       " array([[ 0.30168043,  1.06571214,  0.32995207, -0.46657183,  0.50678671,\n",
       "          0.2638102 ],\n",
       "        [-0.1048095 ,  1.09293385,  0.56599336,  0.08392603,  0.67567015,\n",
       "          0.5740085 ],\n",
       "        [-0.15580183,  0.91581599,  0.34441798,  0.3125889 ,  0.73651183,\n",
       "          4.87145892],\n",
       "        ...,\n",
       "        [ 0.43654933,  2.09660171,  2.99755961, -0.38726885,  3.826342  ,\n",
       "          0.63845609],\n",
       "        [ 0.12936404, -0.29095409, -0.29678633, -0.17354196, -0.176932  ,\n",
       "          0.82117564],\n",
       "        [-0.41409532, -0.34097839, -0.26409103, -0.51955903, -0.0926267 ,\n",
       "         -0.64695467]]))"
      ]
     },
     "execution_count": 28,
     "metadata": {},
     "output_type": "execute_result"
    }
   ],
   "source": [
    "# Standard scaler\n",
    "data_standard_scaler = preprocessing.StandardScaler().fit_transform(df_sst)\n",
    "\n",
    "data_robust_scaler = preprocessing.RobustScaler().fit_transform(df_sst)\n",
    "\n",
    "data_robust_scaler, data_robust_scaler"
   ]
  },
  {
   "cell_type": "markdown",
   "metadata": {},
   "source": [
    "### Plotting data"
   ]
  },
  {
   "cell_type": "code",
   "execution_count": null,
   "metadata": {},
   "outputs": [],
   "source": [
    "# Convert numpy array to DataFrames for plotting\n",
    "data_min_max =          pd.Dataframe(data_min_max)\n",
    "data_normalizer = pd.Dataframe(data_)\n",
    "data_standard_scaler = pd.Dataframe(data_)\n",
    "data_robust_scaler = pd.Dataframe(data_)"
   ]
  },
  {
   "cell_type": "markdown",
   "metadata": {},
   "source": [
    "### Deciding how many clusters to create using \"Elbow method\""
   ]
  },
  {
   "cell_type": "code",
   "execution_count": 29,
   "metadata": {},
   "outputs": [
    {
     "name": "stderr",
     "output_type": "stream",
     "text": [
      "/home/andy/.local/lib/python3.10/site-packages/sklearn/cluster/_kmeans.py:1416: FutureWarning: The default value of `n_init` will change from 10 to 'auto' in 1.4. Set the value of `n_init` explicitly to suppress the warning\n",
      "  super()._check_params_vs_input(X, default_n_init=10)\n",
      "/home/andy/.local/lib/python3.10/site-packages/sklearn/cluster/_kmeans.py:1416: FutureWarning: The default value of `n_init` will change from 10 to 'auto' in 1.4. Set the value of `n_init` explicitly to suppress the warning\n",
      "  super()._check_params_vs_input(X, default_n_init=10)\n",
      "/home/andy/.local/lib/python3.10/site-packages/sklearn/cluster/_kmeans.py:1416: FutureWarning: The default value of `n_init` will change from 10 to 'auto' in 1.4. Set the value of `n_init` explicitly to suppress the warning\n",
      "  super()._check_params_vs_input(X, default_n_init=10)\n",
      "/home/andy/.local/lib/python3.10/site-packages/sklearn/cluster/_kmeans.py:1416: FutureWarning: The default value of `n_init` will change from 10 to 'auto' in 1.4. Set the value of `n_init` explicitly to suppress the warning\n",
      "  super()._check_params_vs_input(X, default_n_init=10)\n",
      "/home/andy/.local/lib/python3.10/site-packages/sklearn/cluster/_kmeans.py:1416: FutureWarning: The default value of `n_init` will change from 10 to 'auto' in 1.4. Set the value of `n_init` explicitly to suppress the warning\n",
      "  super()._check_params_vs_input(X, default_n_init=10)\n",
      "/home/andy/.local/lib/python3.10/site-packages/sklearn/cluster/_kmeans.py:1416: FutureWarning: The default value of `n_init` will change from 10 to 'auto' in 1.4. Set the value of `n_init` explicitly to suppress the warning\n",
      "  super()._check_params_vs_input(X, default_n_init=10)\n",
      "/home/andy/.local/lib/python3.10/site-packages/sklearn/cluster/_kmeans.py:1416: FutureWarning: The default value of `n_init` will change from 10 to 'auto' in 1.4. Set the value of `n_init` explicitly to suppress the warning\n",
      "  super()._check_params_vs_input(X, default_n_init=10)\n",
      "/home/andy/.local/lib/python3.10/site-packages/sklearn/cluster/_kmeans.py:1416: FutureWarning: The default value of `n_init` will change from 10 to 'auto' in 1.4. Set the value of `n_init` explicitly to suppress the warning\n",
      "  super()._check_params_vs_input(X, default_n_init=10)\n"
     ]
    },
    {
     "data": {
      "image/png": "[encoded data removed]",
      "text/plain": [
       "<Figure size 1000x600 with 1 Axes>"
      ]
     },
     "metadata": {},
     "output_type": "display_data"
    }
   ],
   "source": [
    "# Standardize the features\n",
    "scaler = StandardScaler()\n",
    "# Convert the scaled data back to a DataFrame\n",
    "df_scaled = pd.DataFrame(scaler.fit_transform(df_sst), columns=df_sst.columns)\n",
    "\n",
    "# Calculate inertia for different numbers of clusters\n",
    "inertia = []\n",
    "for k in range(2, 10):\n",
    "    kmeans = KMeans(n_clusters=k, random_state=42).fit(df_scaled)\n",
    "    inertia.append(kmeans.inertia_)\n",
    "\n",
    "# Plot the elbow curve\n",
    "plt.figure(figsize=(10,6), dpi=100)\n",
    "plt.plot(range(2,10), inertia, marker=\"o\", color=\"aquamarine\")\n",
    "plt.xlabel(\"Number of Clusters\", fontsize=12)\n",
    "plt.ylabel(\"Inertia\", fontsize=12)\n",
    "plt.title(\"Elbow Method for Optimal k\", fontsize=14)\n",
    "plt.grid(True, linestyle='--', alpha=0.7)\n",
    "plt.show()"
   ]
  },
  {
   "cell_type": "markdown",
   "metadata": {},
   "source": [
    "In conclution our k for the model is 5."
   ]
  },
  {
   "cell_type": "code",
   "execution_count": 5,
   "metadata": {},
   "outputs": [],
   "source": [
    "number_of_clusters = 5"
   ]
  },
  {
   "cell_type": "code",
   "execution_count": 6,
   "metadata": {},
   "outputs": [],
   "source": [
    "#Create a KMeans clustering model.\n",
    "cluster = KMeans(n_clusters = number_of_clusters)\n",
    "\n",
    "#Determing the value of the parameter 'n_init' for future changes \n",
    "kmeans = KMeans(n_init='auto')"
   ]
  },
  {
   "cell_type": "code",
   "execution_count": null,
   "metadata": {},
   "outputs": [],
   "source": [
    "#Training the model. \n",
    "result = cluster.fit_transform(df_sst)"
   ]
  },
  {
   "cell_type": "code",
   "execution_count": null,
   "metadata": {},
   "outputs": [],
   "source": [
    "#Cluster centers are printed.\n",
    "cluster.cluster_centers_"
   ]
  },
  {
   "cell_type": "markdown",
   "metadata": {},
   "source": [
    "### Making Predictions"
   ]
  },
  {
   "cell_type": "code",
   "execution_count": null,
   "metadata": {},
   "outputs": [],
   "source": [
    "#Ckecking columns name.\n",
    "df_sst.columns.tolist()"
   ]
  },
  {
   "cell_type": "code",
   "execution_count": null,
   "metadata": {},
   "outputs": [],
   "source": [
    "#Making predictions and saving them into the column \"cluster_number\".\n",
    "df_sst['cluster_number'] = cluster.predict(df_sst)\n",
    "df_sst.sample(5)"
   ]
  },
  {
   "cell_type": "code",
   "execution_count": null,
   "metadata": {},
   "outputs": [],
   "source": [
    "#Printing the cluster numbers and the number of customers in each cluster.\n",
    "df_sst.cluster_number.value_counts()"
   ]
  },
  {
   "cell_type": "code",
   "execution_count": 12,
   "metadata": {},
   "outputs": [],
   "source": [
    "# Generate sample data for clustering\n",
    "X, y = make_blobs(n_samples=440, \n",
    "                  centers=5, \n",
    "                  cluster_std=0.6, \n",
    "                  random_state=0)"
   ]
  },
  {
   "cell_type": "code",
   "execution_count": null,
   "metadata": {},
   "outputs": [],
   "source": [
    "# Apply k-means clustering\n",
    "cluster.fit(X)"
   ]
  },
  {
   "cell_type": "code",
   "execution_count": null,
   "metadata": {},
   "outputs": [],
   "source": [
    "# Plotting the clusters and cluster centers\n",
    "plt.scatter(X[:, 0], X[:, 1], c=cluster.labels_, cmap='viridis')\n",
    "plt.scatter(cluster.cluster_centers_[:, 0], cluster.cluster_centers_[:, 1], marker='*', s=400, color='r')\n",
    "plt.show()"
   ]
  },
  {
   "cell_type": "code",
   "execution_count": null,
   "metadata": {},
   "outputs": [],
   "source": [
    "#Bonus: plotting cluster in 3D\n",
    "X, y = make_blobs(n_samples=440,\n",
    "                n_features= 3,\n",
    "                 centers=5, \n",
    "                 cluster_std=0.1, \n",
    "                 random_state=42)\n",
    "\n",
    "#Creating 3D scatter plot\n",
    "fig = plt. figure(figsize=(10,8))\n",
    "ax = fig.add_subplot(111,projection='3d')\n",
    "\n",
    "#Plotting the points\n",
    "scatter = ax.scatter(X[:, 0], X[:, 1], X[:, 2],\n",
    "                     c=y,\n",
    "                     cmap='viridis'\n",
    "                     )\n",
    "\n",
    "#Adding labels\n",
    "ax.set_xlabel('X')\n",
    "ax.set_ylabel('Y')\n",
    "ax.set_zlabel('Z')\n",
    "ax.set_title('3D Clustering Visualization')\n",
    "\n",
    "#Adding a color bar\n",
    "plt.colorbar(scatter)\n",
    "\n",
    "#Showing the plot\n",
    "plt.show()\n"
   ]
  }
 ],
 "metadata": {
  "kernelspec": {
   "display_name": "Python 3",
   "language": "python",
   "name": "python3"
  },
  "language_info": {
   "codemirror_mode": {
    "name": "ipython",
    "version": 3
   },
   "file_extension": ".py",
   "mimetype": "text/x-python",
   "name": "python",
   "nbconvert_exporter": "python",
   "pygments_lexer": "ipython3",
   "version": "3.10.12"
  }
 },
 "nbformat": 4,
 "nbformat_minor": 2
}
